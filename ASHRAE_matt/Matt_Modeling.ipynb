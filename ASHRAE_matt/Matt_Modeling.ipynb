{
 "cells": [
  {
   "cell_type": "code",
   "execution_count": 2,
   "metadata": {},
   "outputs": [],
   "source": [
    "import pandas as pd\n",
    "import requests\n",
    "import json\n",
    "import pandas as pd\n",
    "from pandas import ExcelWriter\n",
    "from pandas import ExcelFile\n",
    "import numpy as np\n",
    "import matplotlib.pyplot as plt\n",
    "import seaborn as sns\n",
    "%matplotlib inline\n",
    "import calendar\n",
    "from datetime import date\n",
    "import holidays\n",
    "import statsmodels.api as sm"
   ]
  },
  {
   "cell_type": "code",
   "execution_count": 3,
   "metadata": {},
   "outputs": [],
   "source": [
    "import time"
   ]
  },
  {
   "cell_type": "code",
   "execution_count": 4,
   "metadata": {},
   "outputs": [],
   "source": [
    "import xgboost as xgb"
   ]
  },
  {
   "cell_type": "code",
   "execution_count": 5,
   "metadata": {},
   "outputs": [],
   "source": [
    "from sklearn import preprocessing "
   ]
  },
  {
   "cell_type": "code",
   "execution_count": 6,
   "metadata": {},
   "outputs": [],
   "source": [
    "train = pd.read_csv('ashrae-energy-prediction/train.csv')\n",
    "building = pd.read_csv('ashrae-energy-prediction/building_metadata.csv')\n",
    "weather_data_tr=pd.read_csv('ashrae-energy-prediction/weather_train.csv')\n",
    "test = pd.read_csv('ashrae-energy-prediction/test.csv')\n",
    "weather_data_te=pd.read_csv('ashrae-energy-prediction/weather_test.csv')\n",
    "submission=pd.read_csv('ashrae-energy-prediction/sample_submission.csv')"
   ]
  },
  {
   "cell_type": "code",
   "execution_count": 7,
   "metadata": {},
   "outputs": [],
   "source": [
    "submission=pd.read_csv('ashrae-energy-prediction/sample_submission.csv')"
   ]
  },
  {
   "cell_type": "code",
   "execution_count": 8,
   "metadata": {},
   "outputs": [],
   "source": [
    "from gimme_data import all_the_data"
   ]
  },
  {
   "cell_type": "code",
   "execution_count": 9,
   "metadata": {},
   "outputs": [],
   "source": [
    "df=all_the_data(train, building, weather_data_tr)"
   ]
  },
  {
   "cell_type": "code",
   "execution_count": 1,
   "metadata": {},
   "outputs": [
    {
     "ename": "NameError",
     "evalue": "name 'df' is not defined",
     "output_type": "error",
     "traceback": [
      "\u001b[0;31m---------------------------------------------------------------------------\u001b[0m",
      "\u001b[0;31mNameError\u001b[0m                                 Traceback (most recent call last)",
      "\u001b[0;32m<ipython-input-1-c42a15b2c7cf>\u001b[0m in \u001b[0;36m<module>\u001b[0;34m\u001b[0m\n\u001b[0;32m----> 1\u001b[0;31m \u001b[0mdf\u001b[0m\u001b[0;34m.\u001b[0m\u001b[0mhead\u001b[0m\u001b[0;34m(\u001b[0m\u001b[0;34m)\u001b[0m\u001b[0;34m\u001b[0m\u001b[0;34m\u001b[0m\u001b[0m\n\u001b[0m",
      "\u001b[0;31mNameError\u001b[0m: name 'df' is not defined"
     ]
    }
   ],
   "source": [
    "df.head()"
   ]
  },
  {
   "cell_type": "code",
   "execution_count": 7,
   "metadata": {},
   "outputs": [],
   "source": [
    "df_no_dummies=all_the_data(train, building, weather_data_tr,dummies_=False)"
   ]
  },
  {
   "cell_type": "code",
   "execution_count": 8,
   "metadata": {},
   "outputs": [
    {
     "data": {
      "text/html": [
       "<div>\n",
       "<style scoped>\n",
       "    .dataframe tbody tr th:only-of-type {\n",
       "        vertical-align: middle;\n",
       "    }\n",
       "\n",
       "    .dataframe tbody tr th {\n",
       "        vertical-align: top;\n",
       "    }\n",
       "\n",
       "    .dataframe thead th {\n",
       "        text-align: right;\n",
       "    }\n",
       "</style>\n",
       "<table border=\"1\" class=\"dataframe\">\n",
       "  <thead>\n",
       "    <tr style=\"text-align: right;\">\n",
       "      <th></th>\n",
       "      <th>building_id</th>\n",
       "      <th>timestamp</th>\n",
       "      <th>meter</th>\n",
       "      <th>meter_reading</th>\n",
       "      <th>site_id</th>\n",
       "      <th>month</th>\n",
       "      <th>hour</th>\n",
       "      <th>weekday</th>\n",
       "      <th>holiday</th>\n",
       "      <th>0_electricity</th>\n",
       "      <th>1_chilledwater</th>\n",
       "      <th>2_steam</th>\n",
       "      <th>3_hotwater</th>\n",
       "      <th>air_temperature</th>\n",
       "      <th>dew_temperature</th>\n",
       "      <th>wind_speed</th>\n",
       "    </tr>\n",
       "  </thead>\n",
       "  <tbody>\n",
       "    <tr>\n",
       "      <th>0</th>\n",
       "      <td>0</td>\n",
       "      <td>2016-01-01</td>\n",
       "      <td>0</td>\n",
       "      <td>0.0</td>\n",
       "      <td>0</td>\n",
       "      <td>1</td>\n",
       "      <td>0</td>\n",
       "      <td>4</td>\n",
       "      <td>True</td>\n",
       "      <td>0.0</td>\n",
       "      <td>0.0</td>\n",
       "      <td>0.0</td>\n",
       "      <td>0.0</td>\n",
       "      <td>25.0</td>\n",
       "      <td>20.0</td>\n",
       "      <td>0.0</td>\n",
       "    </tr>\n",
       "    <tr>\n",
       "      <th>1</th>\n",
       "      <td>1</td>\n",
       "      <td>2016-01-01</td>\n",
       "      <td>0</td>\n",
       "      <td>0.0</td>\n",
       "      <td>0</td>\n",
       "      <td>1</td>\n",
       "      <td>0</td>\n",
       "      <td>4</td>\n",
       "      <td>True</td>\n",
       "      <td>0.0</td>\n",
       "      <td>0.0</td>\n",
       "      <td>0.0</td>\n",
       "      <td>0.0</td>\n",
       "      <td>25.0</td>\n",
       "      <td>20.0</td>\n",
       "      <td>0.0</td>\n",
       "    </tr>\n",
       "    <tr>\n",
       "      <th>2</th>\n",
       "      <td>2</td>\n",
       "      <td>2016-01-01</td>\n",
       "      <td>0</td>\n",
       "      <td>0.0</td>\n",
       "      <td>0</td>\n",
       "      <td>1</td>\n",
       "      <td>0</td>\n",
       "      <td>4</td>\n",
       "      <td>True</td>\n",
       "      <td>0.0</td>\n",
       "      <td>0.0</td>\n",
       "      <td>0.0</td>\n",
       "      <td>0.0</td>\n",
       "      <td>25.0</td>\n",
       "      <td>20.0</td>\n",
       "      <td>0.0</td>\n",
       "    </tr>\n",
       "    <tr>\n",
       "      <th>3</th>\n",
       "      <td>3</td>\n",
       "      <td>2016-01-01</td>\n",
       "      <td>0</td>\n",
       "      <td>0.0</td>\n",
       "      <td>0</td>\n",
       "      <td>1</td>\n",
       "      <td>0</td>\n",
       "      <td>4</td>\n",
       "      <td>True</td>\n",
       "      <td>0.0</td>\n",
       "      <td>0.0</td>\n",
       "      <td>0.0</td>\n",
       "      <td>0.0</td>\n",
       "      <td>25.0</td>\n",
       "      <td>20.0</td>\n",
       "      <td>0.0</td>\n",
       "    </tr>\n",
       "    <tr>\n",
       "      <th>4</th>\n",
       "      <td>4</td>\n",
       "      <td>2016-01-01</td>\n",
       "      <td>0</td>\n",
       "      <td>0.0</td>\n",
       "      <td>0</td>\n",
       "      <td>1</td>\n",
       "      <td>0</td>\n",
       "      <td>4</td>\n",
       "      <td>True</td>\n",
       "      <td>0.0</td>\n",
       "      <td>0.0</td>\n",
       "      <td>0.0</td>\n",
       "      <td>0.0</td>\n",
       "      <td>25.0</td>\n",
       "      <td>20.0</td>\n",
       "      <td>0.0</td>\n",
       "    </tr>\n",
       "  </tbody>\n",
       "</table>\n",
       "</div>"
      ],
      "text/plain": [
       "   building_id  timestamp  meter  meter_reading  site_id  month  hour  \\\n",
       "0            0 2016-01-01      0            0.0        0      1     0   \n",
       "1            1 2016-01-01      0            0.0        0      1     0   \n",
       "2            2 2016-01-01      0            0.0        0      1     0   \n",
       "3            3 2016-01-01      0            0.0        0      1     0   \n",
       "4            4 2016-01-01      0            0.0        0      1     0   \n",
       "\n",
       "   weekday  holiday  0_electricity  1_chilledwater  2_steam  3_hotwater  \\\n",
       "0        4     True            0.0             0.0      0.0         0.0   \n",
       "1        4     True            0.0             0.0      0.0         0.0   \n",
       "2        4     True            0.0             0.0      0.0         0.0   \n",
       "3        4     True            0.0             0.0      0.0         0.0   \n",
       "4        4     True            0.0             0.0      0.0         0.0   \n",
       "\n",
       "   air_temperature  dew_temperature  wind_speed  \n",
       "0             25.0             20.0         0.0  \n",
       "1             25.0             20.0         0.0  \n",
       "2             25.0             20.0         0.0  \n",
       "3             25.0             20.0         0.0  \n",
       "4             25.0             20.0         0.0  "
      ]
     },
     "execution_count": 8,
     "metadata": {},
     "output_type": "execute_result"
    }
   ],
   "source": [
    "df_no_dummies.head()"
   ]
  },
  {
   "cell_type": "markdown",
   "metadata": {},
   "source": [
    "## XGBoost\n",
    "train- 2016/01/01-2016/12/31\n",
    "\n",
    "test-  2017/01/01-2018/05/09 7:00"
   ]
  },
  {
   "cell_type": "code",
   "execution_count": 14,
   "metadata": {},
   "outputs": [
    {
     "ename": "NameError",
     "evalue": "name 'df0' is not defined",
     "output_type": "error",
     "traceback": [
      "\u001b[0;31m---------------------------------------------------------------------------\u001b[0m",
      "\u001b[0;31mNameError\u001b[0m                                 Traceback (most recent call last)",
      "\u001b[0;32m<ipython-input-14-1dafeb3b28a2>\u001b[0m in \u001b[0;36m<module>\u001b[0;34m\u001b[0m\n\u001b[0;32m----> 1\u001b[0;31m \u001b[0mdf0\u001b[0m\u001b[0;34m.\u001b[0m\u001b[0mhead\u001b[0m\u001b[0;34m(\u001b[0m\u001b[0;34m)\u001b[0m\u001b[0;34m\u001b[0m\u001b[0;34m\u001b[0m\u001b[0m\n\u001b[0m",
      "\u001b[0;31mNameError\u001b[0m: name 'df0' is not defined"
     ]
    }
   ],
   "source": [
    "df0.head()"
   ]
  },
  {
   "cell_type": "code",
   "execution_count": 15,
   "metadata": {},
   "outputs": [
    {
     "name": "stdout",
     "output_type": "stream",
     "text": [
      "20216100\n",
      "20216100\n"
     ]
    }
   ],
   "source": [
    "#Add Building type to df\n",
    "# df=df.join(pd.get_dummies(building['primary_use']),how='left',on='building_id')\n",
    "# #Add site_id to list\n",
    "# df=df.join(pd.get_dummies(building['site_id'],prefix='site_'),how='left',on='building_id')\n",
    "# #Add sqr footage to df\n",
    "# min_max_scaler = preprocessing.MinMaxScaler()\n",
    "# x=min_max_scaler.fit_transform(pd.DataFrame(building['square_feet']))\n",
    "# building['std_sqr_ft']=x\n",
    "# df=df.join(building['std_sqr_ft'],how='left',on='building_id')\n",
    "# dfs=[]\n",
    "# for i in range(4):\n",
    "#     interior_dfs=[]\n",
    "#     df_ex=df.loc[df[i]==1]\n",
    "#     for i in range(16):\n",
    "        \n",
    "#         interior_dfs.append()\n",
    "#     dfs.append(df.loc[df[0]==1])\n",
    "df0=df.loc[df[0]==1]\n",
    "df1=df.loc[df[1]==1]\n",
    "df2=df.loc[df[2]==1]\n",
    "df3=df.loc[df[3]==1]\n",
    "\n",
    "\n",
    "#check that all variable are there\n",
    "full=0\n",
    "full+=df0.shape[0]\n",
    "full+=df1.shape[0]\n",
    "full+=df2.shape[0]\n",
    "full+=df3.shape[0]\n",
    "print(full)\n",
    "print(df.shape[0])"
   ]
  },
  {
   "cell_type": "code",
   "execution_count": 97,
   "metadata": {},
   "outputs": [],
   "source": [
    "df=df.join(pd.get_dummies(building['site_id'],prefix='site_'),how='left',on='building_id')"
   ]
  },
  {
   "cell_type": "code",
   "execution_count": 51,
   "metadata": {},
   "outputs": [],
   "source": [
    "building=pd.concat([building,pd.get_dummies(building['primary_use'])],axis=1)"
   ]
  },
  {
   "cell_type": "code",
   "execution_count": 106,
   "metadata": {},
   "outputs": [
    {
     "data": {
      "text/plain": [
       "(16,)"
      ]
     },
     "execution_count": 106,
     "metadata": {},
     "output_type": "execute_result"
    }
   ],
   "source": [
    "building['site_id'].value_counts().shape"
   ]
  },
  {
   "cell_type": "code",
   "execution_count": 82,
   "metadata": {},
   "outputs": [
    {
     "data": {
      "text/plain": [
       "Index(['site_id', 'building_id', 'primary_use', 'square_feet', 'year_built',\n",
       "       'floor_count', 'Education', 'Entertainment/public assembly',\n",
       "       'Food sales and service', 'Healthcare', 'Lodging/residential',\n",
       "       'Manufacturing/industrial', 'Office', 'Other', 'Parking',\n",
       "       'Public services', 'Religious worship', 'Retail', 'Services',\n",
       "       'Technology/science', 'Utility', 'Warehouse/storage', 'log_sqr_ft',\n",
       "       'std_sqr_ft'],\n",
       "      dtype='object')"
      ]
     },
     "execution_count": 82,
     "metadata": {},
     "output_type": "execute_result"
    }
   ],
   "source": [
    "building.columns"
   ]
  },
  {
   "cell_type": "code",
   "execution_count": 102,
   "metadata": {},
   "outputs": [
    {
     "data": {
      "text/plain": [
       "(12060910, 49)"
      ]
     },
     "execution_count": 102,
     "metadata": {},
     "output_type": "execute_result"
    }
   ],
   "source": [
    "df0.shape"
   ]
  },
  {
   "cell_type": "code",
   "execution_count": 107,
   "metadata": {
    "scrolled": true
   },
   "outputs": [
    {
     "data": {
      "text/plain": [
       "Index([                  'building_id',                     'timestamp',\n",
       "                               'meter',                 'meter_reading',\n",
       "                             'site_id',                         'month',\n",
       "                                'hour',                       'weekday',\n",
       "                             'holiday',                               0,\n",
       "                                     1,                               2,\n",
       "                                     3,               'air_temperature',\n",
       "                     'dew_temperature',                    'wind_speed',\n",
       "                           'Education', 'Entertainment/public assembly',\n",
       "              'Food sales and service',                    'Healthcare',\n",
       "                 'Lodging/residential',      'Manufacturing/industrial',\n",
       "                              'Office',                         'Other',\n",
       "                             'Parking',               'Public services',\n",
       "                   'Religious worship',                        'Retail',\n",
       "                            'Services',            'Technology/science',\n",
       "                             'Utility',             'Warehouse/storage',\n",
       "                             'site__0',                       'site__1',\n",
       "                             'site__2',                       'site__3',\n",
       "                             'site__4',                       'site__5',\n",
       "                             'site__6',                       'site__7',\n",
       "                             'site__8',                       'site__9',\n",
       "                            'site__10',                      'site__11',\n",
       "                            'site__12',                      'site__13',\n",
       "                            'site__14',                      'site__15',\n",
       "                          'std_sqr_ft'],\n",
       "      dtype='object')"
      ]
     },
     "execution_count": 107,
     "metadata": {},
     "output_type": "execute_result"
    }
   ],
   "source": [
    "df1.columns"
   ]
  },
  {
   "cell_type": "code",
   "execution_count": 95,
   "metadata": {
    "scrolled": true
   },
   "outputs": [
    {
     "data": {
      "text/plain": [
       "0             0.000\n",
       "1             0.000\n",
       "2             0.000\n",
       "3             0.000\n",
       "4             0.000\n",
       "             ...   \n",
       "20216095      8.750\n",
       "20216096      4.825\n",
       "20216097      0.000\n",
       "20216098    159.575\n",
       "20216099      2.850\n",
       "Name: meter_reading, Length: 12060910, dtype: float64"
      ]
     },
     "execution_count": 95,
     "metadata": {},
     "output_type": "execute_result"
    }
   ],
   "source": [
    "df0['meter_reading']"
   ]
  },
  {
   "cell_type": "code",
   "execution_count": 94,
   "metadata": {},
   "outputs": [
    {
     "data": {
      "text/html": [
       "<div>\n",
       "<style scoped>\n",
       "    .dataframe tbody tr th:only-of-type {\n",
       "        vertical-align: middle;\n",
       "    }\n",
       "\n",
       "    .dataframe tbody tr th {\n",
       "        vertical-align: top;\n",
       "    }\n",
       "\n",
       "    .dataframe thead th {\n",
       "        text-align: right;\n",
       "    }\n",
       "</style>\n",
       "<table border=\"1\" class=\"dataframe\">\n",
       "  <thead>\n",
       "    <tr style=\"text-align: right;\">\n",
       "      <th></th>\n",
       "      <th>building_id</th>\n",
       "      <th>meter</th>\n",
       "      <th>timestamp</th>\n",
       "      <th>meter_reading</th>\n",
       "    </tr>\n",
       "  </thead>\n",
       "  <tbody>\n",
       "    <tr>\n",
       "      <th>20216095</th>\n",
       "      <td>1444</td>\n",
       "      <td>0</td>\n",
       "      <td>2016-12-31 23:00:00</td>\n",
       "      <td>8.750</td>\n",
       "    </tr>\n",
       "    <tr>\n",
       "      <th>20216096</th>\n",
       "      <td>1445</td>\n",
       "      <td>0</td>\n",
       "      <td>2016-12-31 23:00:00</td>\n",
       "      <td>4.825</td>\n",
       "    </tr>\n",
       "    <tr>\n",
       "      <th>20216097</th>\n",
       "      <td>1446</td>\n",
       "      <td>0</td>\n",
       "      <td>2016-12-31 23:00:00</td>\n",
       "      <td>0.000</td>\n",
       "    </tr>\n",
       "    <tr>\n",
       "      <th>20216098</th>\n",
       "      <td>1447</td>\n",
       "      <td>0</td>\n",
       "      <td>2016-12-31 23:00:00</td>\n",
       "      <td>159.575</td>\n",
       "    </tr>\n",
       "    <tr>\n",
       "      <th>20216099</th>\n",
       "      <td>1448</td>\n",
       "      <td>0</td>\n",
       "      <td>2016-12-31 23:00:00</td>\n",
       "      <td>2.850</td>\n",
       "    </tr>\n",
       "  </tbody>\n",
       "</table>\n",
       "</div>"
      ],
      "text/plain": [
       "          building_id  meter            timestamp  meter_reading\n",
       "20216095         1444      0  2016-12-31 23:00:00          8.750\n",
       "20216096         1445      0  2016-12-31 23:00:00          4.825\n",
       "20216097         1446      0  2016-12-31 23:00:00          0.000\n",
       "20216098         1447      0  2016-12-31 23:00:00        159.575\n",
       "20216099         1448      0  2016-12-31 23:00:00          2.850"
      ]
     },
     "execution_count": 94,
     "metadata": {},
     "output_type": "execute_result"
    }
   ],
   "source": [
    "train.tail()"
   ]
  },
  {
   "cell_type": "code",
   "execution_count": null,
   "metadata": {},
   "outputs": [],
   "source": [
    "train_cols=['month', 'hour', 'weekday','holiday', 'air_temperature',\n",
    "                     'dew_temperature',                    'wind_speed',\n",
    "                           'Education', 'Entertainment/public assembly',\n",
    "              'Food sales and service',                    'Healthcare',\n",
    "                 'Lodging/residential',      'Manufacturing/industrial',\n",
    "                              'Office',                         'Other',\n",
    "                             'Parking',               'Public services',\n",
    "                   'Religious worship',                        'Retail',\n",
    "                            'Services',            'Technology/science',\n",
    "                             'Utility',             'Warehouse/storage',\n",
    "                             'site__0',                       'site__1',\n",
    "                             'site__2',                       'site__3',\n",
    "                             'site__4',                       'site__5',\n",
    "                             'site__6',                       'site__7',\n",
    "                             'site__8',                       'site__9',\n",
    "                            'site__10',                      'site__11',\n",
    "                            'site__12',                      'site__13',\n",
    "                            'site__14',                      'site__15',\n",
    "                          'std_sqr_ft']"
   ]
  },
  {
   "cell_type": "code",
   "execution_count": 11,
   "metadata": {},
   "outputs": [
    {
     "ename": "NameError",
     "evalue": "name 'df0' is not defined",
     "output_type": "error",
     "traceback": [
      "\u001b[0;31m---------------------------------------------------------------------------\u001b[0m",
      "\u001b[0;31mNameError\u001b[0m                                 Traceback (most recent call last)",
      "\u001b[0;32m<ipython-input-11-371491afea39>\u001b[0m in \u001b[0;36m<module>\u001b[0;34m\u001b[0m\n\u001b[0;32m----> 1\u001b[0;31m \u001b[0my0\u001b[0m\u001b[0;34m=\u001b[0m\u001b[0mdf0\u001b[0m\u001b[0;34m[\u001b[0m\u001b[0;34m'meter_reading'\u001b[0m\u001b[0;34m]\u001b[0m\u001b[0;34m\u001b[0m\u001b[0;34m\u001b[0m\u001b[0m\n\u001b[0m\u001b[1;32m      2\u001b[0m \u001b[0mX0\u001b[0m\u001b[0;34m=\u001b[0m\u001b[0mdf0\u001b[0m\u001b[0;34m[\u001b[0m\u001b[0mtrain_cols\u001b[0m\u001b[0;34m]\u001b[0m\u001b[0;34m\u001b[0m\u001b[0;34m\u001b[0m\u001b[0m\n",
      "\u001b[0;31mNameError\u001b[0m: name 'df0' is not defined"
     ]
    }
   ],
   "source": [
    "y0=df0['meter_reading']\n",
    "X0=df0[train_cols]"
   ]
  },
  {
   "cell_type": "code",
   "execution_count": null,
   "metadata": {},
   "outputs": [],
   "source": [
    "X0.shape"
   ]
  },
  {
   "cell_type": "code",
   "execution_count": 114,
   "metadata": {},
   "outputs": [],
   "source": [
    "clf = xgb.XGBClassifier()"
   ]
  },
  {
   "cell_type": "code",
   "execution_count": null,
   "metadata": {},
   "outputs": [
    {
     "name": "stdout",
     "output_type": "stream",
     "text": [
      "[21:51:25] WARNING: src/learner.cc:686: Tree method is automatically selected to be 'approx' for faster speed. To use old behavior (exact greedy algorithm on single machine), set tree_method to 'exact'.\n"
     ]
    }
   ],
   "source": [
    "start=time.time()\n",
    "clf.fit(X0, y0)\n",
    "end=time.time()\n",
    "print(end-start)"
   ]
  },
  {
   "cell_type": "code",
   "execution_count": null,
   "metadata": {},
   "outputs": [],
   "source": [
    "def add_building_cols(dfx,dfy,building)\n",
    "    dfx=all_the_data(dfy, building, weather_data_te)\n",
    "    #Add Building type to df\n",
    "    dfx=dfx.join(pd.get_dummies(building['primary_use']),how='left',on='building_id')\n",
    "    #Add site_id to list\n",
    "    dfx=dfx.join(pd.get_dummies(building['site_id'],prefix='site_'),how='left',on='building_id')\n",
    "    #Add sqr footage to df\n",
    "    min_max_scaler = preprocessing.MinMaxScaler()\n",
    "    x=min_max_scaler.fit_transform(pd.DataFrame(building['square_feet']))\n",
    "    building['std_sqr_ft']=x\n",
    "    dfx=dfx.join(building['std_sqr_ft'],how='left',on='building_id')\n",
    "    dfs=[]\n",
    "    for i in range(4):\n",
    "        interior_dfs=[]\n",
    "        df_ex=dfx.loc[dfx[i]==1]\n",
    "        for i in range(16):\n",
    "\n",
    "            interior_dfs.append()\n",
    "        dfs.append(dfx.loc[dfx[0]==1])\n",
    "    df0=dfx.loc[df[0]==1]\n",
    "    df1=dfx.loc[df[1]==1]\n",
    "    df2=dfx.loc[df[2]==1]\n",
    "    df3=dfx.loc[df[3]==1]\n",
    "\n",
    "\n",
    "    #check that all variable are there\n",
    "    full=0\n",
    "    full+=df0.shape[0]\n",
    "    full+=df1.shape[0]\n",
    "    full+=df2.shape[0]\n",
    "    full+=df3.shape[0]\n",
    "    print(full)\n",
    "    print(df.shape[0])"
   ]
  }
 ],
 "metadata": {
  "kernelspec": {
   "display_name": "Python 3",
   "language": "python",
   "name": "python3"
  },
  "language_info": {
   "codemirror_mode": {
    "name": "ipython",
    "version": 3
   },
   "file_extension": ".py",
   "mimetype": "text/x-python",
   "name": "python",
   "nbconvert_exporter": "python",
   "pygments_lexer": "ipython3",
   "version": "3.7.3"
  }
 },
 "nbformat": 4,
 "nbformat_minor": 2
}
