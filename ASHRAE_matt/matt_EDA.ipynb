{
 "cells": [
  {
   "cell_type": "code",
   "execution_count": 1,
   "metadata": {},
   "outputs": [],
   "source": [
    "import re\n",
    "import os\n",
    "import time\n",
    "import random\n",
    "import requests\n",
    "import gensim\n",
    "import numpy as np\n",
    "import pandas as pd\n",
    "import seaborn as sns\n",
    "import matplotlib.pyplot as plt"
   ]
  },
  {
   "cell_type": "code",
   "execution_count": null,
   "metadata": {},
   "outputs": [],
   "source": [
    "def convert_back(df,building_df, energy_col='meter_reading', site_col='site_id',has_col=False):\n",
    "    '''\n",
    "    df.groupby(by='site_id')['meter_reading'].mean() -mean meter reading is 549 without converion, 414 with conversion\n",
    "    df:dataset with the meter_reading col\n",
    "    building_df: dataset with the site_id col\n",
    "    energy_col: meter_reading column name\n",
    "    site_col: site column name\n",
    "    has_col: if True, does not append site_col column to main df\n",
    "    '''\n",
    "    \n",
    "    if has_col:\n",
    "        df.loc[(df['site_id'] == 0) & (df['meter'] == 0), energy_col] = df[(df['site_id'] == 0) & (df['meter'] == 0)][energy_col] * 3.4118\n",
    "        return df\n",
    "    else:\n",
    "        df=df.join(building_df[site_col],how='left',on='building_id')\n",
    "        df.loc[(df['site_id'] == 0) & (df['meter'] == 0), energy_col] = df[(df['site_id'] == 0) & (df['meter'] == 0)]['meter_reading'] * 3.4118\n",
    "        return df"
   ]
  },
  {
   "cell_type": "code",
   "execution_count": null,
   "metadata": {},
   "outputs": [],
   "source": [
    "def convert_btu(df,building_df, energy_col='meter_reading', site_col='site_id',has_col=False):\n",
    "    '''\n",
    "    df:dataset with the meter_reading col\n",
    "    building_df: dataset with the site_id col\n",
    "    energy_col: meter_reading column name\n",
    "    site_col: site column name\n",
    "    has_col: if True, does not append site_col column to main df\n",
    "    '''\n",
    "    \n",
    "    if has_col:\n",
    "        df.loc[(df['site_id'] == 0) & (df['meter'] == 0), energy_col] = df[(df['site_id'] == 0) & (df['meter'] == 0)][energy_col] * 0.2931\n",
    "        return df\n",
    "    else:\n",
    "        df=df.join(building_df[site_col],how='left',on='building_id')\n",
    "        df.loc[(df['site_id'] == 0) & (df['meter'] == 0), energy_col] = df[(df['site_id'] == 0) & (df['meter'] == 0)]['meter_reading'] * 0.2931\n",
    "        return df"
   ]
  },
  {
   "cell_type": "code",
   "execution_count": 67,
   "metadata": {},
   "outputs": [],
   "source": [
    "buildings=pd.read_csv('ashrae-energy-prediction/building_metadata.csv')\n",
    "submission=pd.read_csv('ashrae-energy-prediction/sample_submission.csv')"
   ]
  },
  {
   "cell_type": "code",
   "execution_count": 215,
   "metadata": {},
   "outputs": [],
   "source": [
    "wet_train=pd.read_csv('ashrae-energy-prediction/weather_train.csv')\n",
    "train=pd.read_csv('ashrae-energy-prediction/train.csv')\n",
    "test=pd.read_csv('ashrae-energy-prediction/test.csv')\n",
    "wet_test=pd.read_csv('ashrae-energy-prediction/weather_test.csv')"
   ]
  },
  {
   "cell_type": "code",
   "execution_count": 41,
   "metadata": {},
   "outputs": [
    {
     "name": "stdout",
     "output_type": "stream",
     "text": [
      "buildings: (1449, 6)\n",
      "\tsite_id: 0\n",
      "\tbuilding_id: 0\n",
      "\tprimary_use: 0\n",
      "\tsquare_feet: 0\n",
      "\tyear_built: 774\n",
      "\tfloor_count: 1094\n",
      "submission: (41697600, 2)\n",
      "\trow_id: 0\n",
      "\tmeter_reading: 0\n",
      "wet_train: (139773, 9)\n",
      "\tsite_id: 0\n",
      "\ttimestamp: 0\n",
      "\tair_temperature: 55\n",
      "\tcloud_coverage: 69173\n",
      "\tdew_temperature: 113\n",
      "\tprecip_depth_1_hr: 50289\n",
      "\tsea_level_pressure: 10618\n",
      "\twind_direction: 6268\n",
      "\twind_speed: 304\n",
      "wet_test: (277243, 9)\n",
      "\tsite_id: 0\n",
      "\ttimestamp: 0\n",
      "\tair_temperature: 104\n",
      "\tcloud_coverage: 140448\n",
      "\tdew_temperature: 327\n",
      "\tprecip_depth_1_hr: 95588\n",
      "\tsea_level_pressure: 21265\n",
      "\twind_direction: 12370\n",
      "\twind_speed: 460\n",
      "train: (20216100, 4)\n",
      "\tbuilding_id: 0\n",
      "\tmeter: 0\n",
      "\ttimestamp: 0\n",
      "\tmeter_reading: 0\n",
      "test: (41697600, 4)\n",
      "\trow_id: 0\n",
      "\tbuilding_id: 0\n",
      "\tmeter: 0\n",
      "\ttimestamp: 0\n"
     ]
    }
   ],
   "source": [
    "dfs={'buildings':buildings,\n",
    "     'submission':submission,\n",
    "     'wet_train':wet_train,\n",
    "     'wet_test':wet_test,\n",
    "     'train':train,\n",
    "     'test':test}\n",
    "for name,data in dfs.items():\n",
    "    print('{}: {}'.format(name,data.shape))\n",
    "    for col in data.columns:\n",
    "        print('\\t{}: {}'.format(col,data[col].isna().sum()))"
   ]
  },
  {
   "cell_type": "code",
   "execution_count": 216,
   "metadata": {},
   "outputs": [],
   "source": [
    "wet_test.index=pd.DatetimeIndex(wet_test['timestamp'])\n",
    "wet_test.drop(labels='timestamp',axis=1,inplace=True)"
   ]
  },
  {
   "cell_type": "code",
   "execution_count": 217,
   "metadata": {},
   "outputs": [],
   "source": [
    "wet_train.index=pd.DatetimeIndex(wet_train['timestamp'])\n",
    "wet_train.drop(labels='timestamp',axis=1,inplace=True)"
   ]
  },
  {
   "cell_type": "code",
   "execution_count": 143,
   "metadata": {
    "scrolled": true
   },
   "outputs": [],
   "source": [
    "buildings['age']=2019-buildings['year_built']"
   ]
  },
  {
   "cell_type": "code",
   "execution_count": 156,
   "metadata": {
    "scrolled": true
   },
   "outputs": [
    {
     "data": {
      "text/plain": [
       "Education                        223\n",
       "Office                           194\n",
       "Entertainment/public assembly    111\n",
       "Public services                  105\n",
       "Lodging/residential               62\n",
       "Other                             19\n",
       "Healthcare                        15\n",
       "Services                          10\n",
       "Parking                            8\n",
       "Warehouse/storage                  8\n",
       "Manufacturing/industrial           6\n",
       "Retail                             4\n",
       "Food sales and service             4\n",
       "Technology/science                 3\n",
       "Utility                            1\n",
       "Religious worship                  1\n",
       "Name: primary_use, dtype: int64"
      ]
     },
     "execution_count": 156,
     "metadata": {},
     "output_type": "execute_result"
    }
   ],
   "source": [
    "buildings.loc[buildings['year_built'].isna()]['primary_use'].value_counts()"
   ]
  },
  {
   "cell_type": "code",
   "execution_count": 146,
   "metadata": {},
   "outputs": [
    {
     "data": {
      "text/plain": [
       "<matplotlib.axes._subplots.AxesSubplot at 0x1a5f35a6d8>"
      ]
     },
     "execution_count": 146,
     "metadata": {},
     "output_type": "execute_result"
    },
    {
     "data": {
      "image/png": "[encoded data removed]",
      "text/plain": [
       "<Figure size 432x288 with 1 Axes>"
      ]
     },
     "metadata": {
      "needs_background": "light"
     },
     "output_type": "display_data"
    }
   ],
   "source": [
    "sns.distplot(buildings['year_built'].dropna())"
   ]
  },
  {
   "cell_type": "code",
   "execution_count": 125,
   "metadata": {
    "collapsed": true
   },
   "outputs": [
    {
     "data": {
      "text/plain": [
       "timestamp\n",
       "2016-01-01 00:00:00   -1.8\n",
       "2016-01-01 01:00:00   -1.7\n",
       "2016-01-01 02:00:00   -2.7\n",
       "2016-01-01 03:00:00   -2.3\n",
       "2016-01-01 04:00:00   -2.6\n",
       "2016-01-01 05:00:00   -2.2\n",
       "2016-01-01 06:00:00   -2.3\n",
       "2016-01-01 07:00:00   -2.8\n",
       "2016-01-01 08:00:00   -3.0\n",
       "2016-01-01 09:00:00   -3.3\n",
       "2016-01-01 10:00:00   -3.2\n",
       "2016-01-01 11:00:00   -3.1\n",
       "2016-01-01 12:00:00   -3.1\n",
       "2016-01-01 13:00:00   -2.1\n",
       "2016-01-01 14:00:00   -1.2\n",
       "2016-01-01 15:00:00   -0.7\n",
       "2016-01-01 16:00:00   -0.5\n",
       "2016-01-01 17:00:00   -0.3\n",
       "2016-01-01 18:00:00   -0.3\n",
       "2016-01-01 19:00:00   -0.4\n",
       "2016-01-01 20:00:00   -0.7\n",
       "2016-01-01 21:00:00   -0.9\n",
       "2016-01-01 22:00:00   -1.0\n",
       "2016-01-01 23:00:00   -2.0\n",
       "2016-01-02 00:00:00   -1.5\n",
       "2016-01-02 01:00:00   -1.6\n",
       "2016-01-02 02:00:00   -1.9\n",
       "2016-01-02 03:00:00   -2.2\n",
       "2016-01-02 04:00:00   -2.6\n",
       "2016-01-02 05:00:00   -2.4\n",
       "2016-01-02 06:00:00   -2.7\n",
       "2016-01-02 07:00:00   -3.3\n",
       "2016-01-02 08:00:00   -3.9\n",
       "2016-01-02 09:00:00   -5.6\n",
       "2016-01-02 10:00:00   -5.8\n",
       "2016-01-02 11:00:00   -4.2\n",
       "2016-01-02 12:00:00   -3.2\n",
       "2016-01-02 13:00:00   -2.5\n",
       "2016-01-02 14:00:00   -1.7\n",
       "2016-01-02 15:00:00   -2.0\n",
       "2016-01-02 16:00:00   -1.6\n",
       "2016-01-02 17:00:00   -1.8\n",
       "2016-01-02 18:00:00   -1.5\n",
       "2016-01-02 19:00:00   -1.1\n",
       "2016-01-02 20:00:00   -0.7\n",
       "2016-01-02 21:00:00   -0.7\n",
       "2016-01-02 22:00:00   -0.6\n",
       "2016-01-02 23:00:00   -0.6\n",
       "2016-01-03 00:00:00   -0.6\n",
       "2016-01-03 01:00:00   -1.5\n",
       "Name: air_temperature, dtype: float64"
      ]
     },
     "execution_count": 125,
     "metadata": {},
     "output_type": "execute_result"
    }
   ],
   "source": [
    "wet_train.loc[wet_train['site_id']==7]['air_temperature'].head(50)"
   ]
  },
  {
   "cell_type": "code",
   "execution_count": null,
   "metadata": {},
   "outputs": [],
   "source": []
  },
  {
   "cell_type": "code",
   "execution_count": 193,
   "metadata": {
    "scrolled": true
   },
   "outputs": [
    {
     "ename": "TypeError",
     "evalue": "Only valid with DatetimeIndex, TimedeltaIndex or PeriodIndex, but got an instance of 'Int64Index'",
     "output_type": "error",
     "traceback": [
      "\u001b[0;31m---------------------------------------------------------------------------\u001b[0m",
      "\u001b[0;31mTypeError\u001b[0m                                 Traceback (most recent call last)",
      "\u001b[0;32m<ipython-input-193-c6e29c0854fb>\u001b[0m in \u001b[0;36m<module>\u001b[0;34m\u001b[0m\n\u001b[1;32m      2\u001b[0m \u001b[0;32mfor\u001b[0m \u001b[0mk\u001b[0m \u001b[0;32min\u001b[0m \u001b[0mrange\u001b[0m\u001b[0;34m(\u001b[0m\u001b[0;36m16\u001b[0m\u001b[0;34m)\u001b[0m\u001b[0;34m:\u001b[0m\u001b[0;34m\u001b[0m\u001b[0;34m\u001b[0m\u001b[0m\n\u001b[1;32m      3\u001b[0m \u001b[0;31m#     print(k)\u001b[0m\u001b[0;34m\u001b[0m\u001b[0;34m\u001b[0m\u001b[0;34m\u001b[0m\u001b[0m\n\u001b[0;32m----> 4\u001b[0;31m     \u001b[0mwet_train\u001b[0m\u001b[0;34m.\u001b[0m\u001b[0mloc\u001b[0m\u001b[0;34m[\u001b[0m\u001b[0mwet_train\u001b[0m\u001b[0;34m[\u001b[0m\u001b[0;34m'site_id'\u001b[0m\u001b[0;34m]\u001b[0m\u001b[0;34m==\u001b[0m\u001b[0mk\u001b[0m\u001b[0;34m]\u001b[0m\u001b[0;34m.\u001b[0m\u001b[0misna\u001b[0m\u001b[0;34m(\u001b[0m\u001b[0;34m)\u001b[0m\u001b[0;34m.\u001b[0m\u001b[0mresample\u001b[0m\u001b[0;34m(\u001b[0m\u001b[0;34m'M'\u001b[0m\u001b[0;34m)\u001b[0m\u001b[0;34m.\u001b[0m\u001b[0msum\u001b[0m\u001b[0;34m(\u001b[0m\u001b[0;34m)\u001b[0m\u001b[0;34m.\u001b[0m\u001b[0mplot\u001b[0m\u001b[0;34m(\u001b[0m\u001b[0mlabel\u001b[0m\u001b[0;34m=\u001b[0m\u001b[0mk\u001b[0m\u001b[0;34m)\u001b[0m\u001b[0;34m\u001b[0m\u001b[0;34m\u001b[0m\u001b[0m\n\u001b[0m\u001b[1;32m      5\u001b[0m \u001b[0;31m# wet_train.loc[wet_train['site_id']==15]['air_temperature'].resample('D').mean().plot(label=15)\u001b[0m\u001b[0;34m\u001b[0m\u001b[0;34m\u001b[0m\u001b[0;34m\u001b[0m\u001b[0m\n\u001b[1;32m      6\u001b[0m \u001b[0mplt\u001b[0m\u001b[0;34m.\u001b[0m\u001b[0mlegend\u001b[0m\u001b[0;34m(\u001b[0m\u001b[0;34m)\u001b[0m\u001b[0;34m\u001b[0m\u001b[0;34m\u001b[0m\u001b[0m\n",
      "\u001b[0;32m/Applications/anaconda3/lib/python3.7/site-packages/pandas/core/generic.py\u001b[0m in \u001b[0;36mresample\u001b[0;34m(self, rule, how, axis, fill_method, closed, label, convention, kind, loffset, limit, base, on, level)\u001b[0m\n\u001b[1;32m   8447\u001b[0m             \u001b[0mbase\u001b[0m\u001b[0;34m=\u001b[0m\u001b[0mbase\u001b[0m\u001b[0;34m,\u001b[0m\u001b[0;34m\u001b[0m\u001b[0;34m\u001b[0m\u001b[0m\n\u001b[1;32m   8448\u001b[0m             \u001b[0mkey\u001b[0m\u001b[0;34m=\u001b[0m\u001b[0mon\u001b[0m\u001b[0;34m,\u001b[0m\u001b[0;34m\u001b[0m\u001b[0;34m\u001b[0m\u001b[0m\n\u001b[0;32m-> 8449\u001b[0;31m             \u001b[0mlevel\u001b[0m\u001b[0;34m=\u001b[0m\u001b[0mlevel\u001b[0m\u001b[0;34m,\u001b[0m\u001b[0;34m\u001b[0m\u001b[0;34m\u001b[0m\u001b[0m\n\u001b[0m\u001b[1;32m   8450\u001b[0m         )\n\u001b[1;32m   8451\u001b[0m         return _maybe_process_deprecations(\n",
      "\u001b[0;32m/Applications/anaconda3/lib/python3.7/site-packages/pandas/core/resample.py\u001b[0m in \u001b[0;36mresample\u001b[0;34m(obj, kind, **kwds)\u001b[0m\n\u001b[1;32m   1304\u001b[0m     \"\"\"\n\u001b[1;32m   1305\u001b[0m     \u001b[0mtg\u001b[0m \u001b[0;34m=\u001b[0m \u001b[0mTimeGrouper\u001b[0m\u001b[0;34m(\u001b[0m\u001b[0;34m**\u001b[0m\u001b[0mkwds\u001b[0m\u001b[0;34m)\u001b[0m\u001b[0;34m\u001b[0m\u001b[0;34m\u001b[0m\u001b[0m\n\u001b[0;32m-> 1306\u001b[0;31m     \u001b[0;32mreturn\u001b[0m \u001b[0mtg\u001b[0m\u001b[0;34m.\u001b[0m\u001b[0m_get_resampler\u001b[0m\u001b[0;34m(\u001b[0m\u001b[0mobj\u001b[0m\u001b[0;34m,\u001b[0m \u001b[0mkind\u001b[0m\u001b[0;34m=\u001b[0m\u001b[0mkind\u001b[0m\u001b[0;34m)\u001b[0m\u001b[0;34m\u001b[0m\u001b[0;34m\u001b[0m\u001b[0m\n\u001b[0m\u001b[1;32m   1307\u001b[0m \u001b[0;34m\u001b[0m\u001b[0m\n\u001b[1;32m   1308\u001b[0m \u001b[0;34m\u001b[0m\u001b[0m\n",
      "\u001b[0;32m/Applications/anaconda3/lib/python3.7/site-packages/pandas/core/resample.py\u001b[0m in \u001b[0;36m_get_resampler\u001b[0;34m(self, obj, kind)\u001b[0m\n\u001b[1;32m   1441\u001b[0m             \u001b[0;34m\"Only valid with DatetimeIndex, \"\u001b[0m\u001b[0;34m\u001b[0m\u001b[0;34m\u001b[0m\u001b[0m\n\u001b[1;32m   1442\u001b[0m             \u001b[0;34m\"TimedeltaIndex or PeriodIndex, \"\u001b[0m\u001b[0;34m\u001b[0m\u001b[0;34m\u001b[0m\u001b[0m\n\u001b[0;32m-> 1443\u001b[0;31m             \u001b[0;34m\"but got an instance of %r\"\u001b[0m \u001b[0;34m%\u001b[0m \u001b[0mtype\u001b[0m\u001b[0;34m(\u001b[0m\u001b[0max\u001b[0m\u001b[0;34m)\u001b[0m\u001b[0;34m.\u001b[0m\u001b[0m__name__\u001b[0m\u001b[0;34m\u001b[0m\u001b[0;34m\u001b[0m\u001b[0m\n\u001b[0m\u001b[1;32m   1444\u001b[0m         )\n\u001b[1;32m   1445\u001b[0m \u001b[0;34m\u001b[0m\u001b[0m\n",
      "\u001b[0;31mTypeError\u001b[0m: Only valid with DatetimeIndex, TimedeltaIndex or PeriodIndex, but got an instance of 'Int64Index'"
     ]
    },
    {
     "data": {
      "text/plain": [
       "<Figure size 1080x720 with 0 Axes>"
      ]
     },
     "metadata": {},
     "output_type": "display_data"
    }
   ],
   "source": [
    "plt.figure(figsize=(15,10))\n",
    "for k in range(16):\n",
    "#     print(k)\n",
    "    wet_train.loc[wet_train['site_id']==k].isna().resample('M').sum().plot(label=k)\n",
    "# wet_train.loc[wet_train['site_id']==15]['air_temperature'].resample('D').mean().plot(label=15)\n",
    "plt.legend()\n"
   ]
  },
  {
   "cell_type": "code",
   "execution_count": 196,
   "metadata": {},
   "outputs": [],
   "source": [
    "train.index=pd.DatetimeIndex(train['timestamp'])\n",
    "train=train.drop('timestamp',axis=1)"
   ]
  },
  {
   "cell_type": "code",
   "execution_count": 238,
   "metadata": {},
   "outputs": [],
   "source": [
    "train['timestamp']=pd.to_datetime(train['timestamp'])"
   ]
  },
  {
   "cell_type": "code",
   "execution_count": 240,
   "metadata": {},
   "outputs": [],
   "source": [
    "df=pd.merge(train,wet_train[['air_temperature','dew_temperature','wind_speed','site_id','timestamp']],\n",
    "       left_on=['site_id','timestamp'],\n",
    "         right_on=['site_id','timestamp'],\n",
    "        how='left')"
   ]
  },
  {
   "cell_type": "code",
   "execution_count": 203,
   "metadata": {},
   "outputs": [],
   "source": [
    "wet_train.index=pd.DatetimeIndex(wet_train['timestamp'])\n",
    "wet_train=wet_train.drop('timestamp',axis=1)"
   ]
  },
  {
   "cell_type": "code",
   "execution_count": 208,
   "metadata": {},
   "outputs": [],
   "source": [
    "wet_train['timestamp']=wet_train.index"
   ]
  },
  {
   "cell_type": "code",
   "execution_count": 213,
   "metadata": {},
   "outputs": [],
   "source": [
    "wet_train.drop('timestamp',axis=1,inplace=True)"
   ]
  },
  {
   "cell_type": "code",
   "execution_count": 221,
   "metadata": {},
   "outputs": [],
   "source": [
    "train=train.join(buildings['site_id'],how='left',on='building_id')"
   ]
  },
  {
   "cell_type": "code",
   "execution_count": 257,
   "metadata": {},
   "outputs": [
    {
     "data": {
      "text/plain": [
       "building_id        0\n",
       "meter              0\n",
       "timestamp          0\n",
       "meter_reading      0\n",
       "site_id            0\n",
       "air_temperature    0\n",
       "dew_temperature    0\n",
       "wind_speed         0\n",
       "dtype: int64"
      ]
     },
     "execution_count": 257,
     "metadata": {},
     "output_type": "execute_result"
    }
   ],
   "source": [
    "wet_train['timestamp']=pd.to_datetime(wet_train['timestamp'])\n",
    "df=pd.merge(train,wet_train[['air_temperature','dew_temperature','wind_speed','site_id','timestamp']],\n",
    "       left_on=['site_id','timestamp'],\n",
    "         right_on=['site_id','timestamp'],\n",
    "        how='left')\n",
    "for col in ['air_temperature','dew_temperature','wind_speed']:\n",
    "    df[col]=df[col].interpolate()\n",
    "df.isna().sum()"
   ]
  },
  {
   "cell_type": "code",
   "execution_count": null,
   "metadata": {},
   "outputs": [],
   "source": []
  }
 ],
 "metadata": {
  "kernelspec": {
   "display_name": "Python 3",
   "language": "python",
   "name": "python3"
  },
  "language_info": {
   "codemirror_mode": {
    "name": "ipython",
    "version": 3
   },
   "file_extension": ".py",
   "mimetype": "text/x-python",
   "name": "python",
   "nbconvert_exporter": "python",
   "pygments_lexer": "ipython3",
   "version": "3.7.3"
  }
 },
 "nbformat": 4,
 "nbformat_minor": 2
}
