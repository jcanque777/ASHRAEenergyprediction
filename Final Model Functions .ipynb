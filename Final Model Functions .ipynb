{
 "cells": [
  {
   "cell_type": "code",
   "execution_count": 43,
   "metadata": {},
   "outputs": [],
   "source": [
    "import pandas as pd\n",
    "import numpy as np\n",
    "import matplotlib.pyplot as plt\n",
    "import seaborn as sns\n",
    "%matplotlib inline\n",
    "pd.set_option('display.max_columns', None)\n",
    "\n",
    "from sklearn.cluster import KMeans\n",
    "from sklearn.preprocessing import StandardScaler\n",
    "\n",
    "from sklearn.ensemble import RandomForestRegressor\n",
    "from sklearn.metrics import mean_squared_error\n",
    "from math import sqrt\n",
    "\n",
    "from sklearn.model_selection import train_test_split\n",
    "from sklearn.ensemble import RandomForestRegressor\n",
    "from sklearn.metrics import mean_squared_error\n",
    "from math import sqrt"
   ]
  },
  {
   "cell_type": "code",
   "execution_count": 20,
   "metadata": {},
   "outputs": [],
   "source": [
    "# df_meter is the output of the past function.  Decided to use dummy varaibles for the meters instead of exact values \n",
    "# in seperate columns.  I felt this was more condusive for the model \n",
    "df_meter = pd.read_csv('meter_dummies_final.csv')\n",
    "df_building_meta = pd.read_csv('building_metadata.csv')"
   ]
  },
  {
   "cell_type": "code",
   "execution_count": 21,
   "metadata": {},
   "outputs": [],
   "source": [
    "def prepare_knn_df(df_meter, df_building_meta):\n",
    "    df_building_meta.drop(['year_built', 'floor_count', 'site_id'], axis=1, inplace=True)\n",
    "    df_meter.drop('timestamp', axis = 1, inplace=True)\n",
    "    building_mean = df_meter.groupby('building_id')['meter_reading'].mean()\n",
    "    df_building_meta['mean_meter'] = building_mean\n",
    "    df_building_meta['mean_meter'] = np.where(df_building_meta['mean_meter'] >= 25000, 25000, df_building_meta['mean_meter'])\n",
    "    df_building_meta.drop(['building_id', 'primary_use'], axis=1, inplace=True)\n",
    "    return df_building_meta"
   ]
  },
  {
   "cell_type": "code",
   "execution_count": 22,
   "metadata": {},
   "outputs": [],
   "source": [
    "knn_df = prepare_knn_df(df_meter, df_building_meta)"
   ]
  },
  {
   "cell_type": "code",
   "execution_count": null,
   "metadata": {},
   "outputs": [],
   "source": []
  },
  {
   "cell_type": "code",
   "execution_count": 28,
   "metadata": {},
   "outputs": [],
   "source": [
    "def build_knn(knn_df):\n",
    "    df_avg = knn_df[knn_df['mean_meter'] <= 250000]\n",
    "    \n",
    "    scaler = StandardScaler()\n",
    "    scaler.fit(df_avg)\n",
    "    scaled_features = scaler.transform(knn_df)\n",
    "    \n",
    "    df_feat = pd.DataFrame(scaled_features,columns=knn_df.columns)\n",
    "    kmeans = KMeans()\n",
    "    kmeans.fit(df_feat)\n",
    "    \n",
    "    return scaler, kmeans"
   ]
  },
  {
   "cell_type": "code",
   "execution_count": 29,
   "metadata": {},
   "outputs": [],
   "source": [
    "scaler, kmeans = build_knn(knn_df)"
   ]
  },
  {
   "cell_type": "code",
   "execution_count": 33,
   "metadata": {},
   "outputs": [],
   "source": [
    "def building_groups_knn(scaler, kmeans, knn_df):\n",
    "    df_scaled_features = scaler.transform(knn_df)\n",
    "    df_features = pd.DataFrame(df_scaled_features,columns=knn_df.columns)\n",
    "    knn_df['building_groups'] = kmeans.predict(df_features)\n",
    "    return knn_df"
   ]
  },
  {
   "cell_type": "code",
   "execution_count": 34,
   "metadata": {},
   "outputs": [],
   "source": [
    "building_knn = building_groups_knn(scaler, kmeans, knn_df)"
   ]
  },
  {
   "cell_type": "code",
   "execution_count": 36,
   "metadata": {},
   "outputs": [
    {
     "data": {
      "text/plain": [
       "<matplotlib.collections.PathCollection at 0x1a8d7cd550>"
      ]
     },
     "execution_count": 36,
     "metadata": {},
     "output_type": "execute_result"
    },
    {
     "data": {
      "image/png": "[encoded data removed]",
      "text/plain": [
       "<Figure size 432x288 with 1 Axes>"
      ]
     },
     "metadata": {
      "needs_background": "light"
     },
     "output_type": "display_data"
    }
   ],
   "source": [
    "# optional to visualize knn \n",
    "# plt.scatter(building_knn['square_feet'], building_knn['mean_meter'], c=building_knn['building_groups'], s=50, cmap='viridis')"
   ]
  },
  {
   "cell_type": "markdown",
   "metadata": {},
   "source": [
    "## Final Model DF "
   ]
  },
  {
   "cell_type": "code",
   "execution_count": 37,
   "metadata": {},
   "outputs": [],
   "source": [
    "# re import the original building metadata \n",
    "building = pd.read_csv('building_metadata.csv')\n"
   ]
  },
  {
   "cell_type": "code",
   "execution_count": 38,
   "metadata": {},
   "outputs": [],
   "source": [
    "def combine_dfs(building, df_meter, building_knn): \n",
    "    model_df = pd.merge(building, df_meter)\n",
    "    #creates dummies for primary use category \n",
    "    model_df = pd.concat([model_df, pd.get_dummies(model_df['primary_use'])], axis=1)\n",
    "    model_df.drop('primary_use', axis = 1, inplace=True)\n",
    "    model_df = pd.merge(model_df, building_knn)\n",
    "    model_df.drop(['site_id', 'building_id', 'year_built', 'floor_count', 'meter', 'mean_meter'], axis=1, inplace=True)\n",
    "    model_df.drop_duplicates(inplace=True)\n",
    "    return model_df \n",
    "    "
   ]
  },
  {
   "cell_type": "code",
   "execution_count": 40,
   "metadata": {},
   "outputs": [],
   "source": [
    "final_model = combine_dfs(building, df_meter, building_knn)"
   ]
  },
  {
   "cell_type": "code",
   "execution_count": null,
   "metadata": {},
   "outputs": [],
   "source": []
  },
  {
   "cell_type": "markdown",
   "metadata": {},
   "source": [
    "### Random Forrest "
   ]
  },
  {
   "cell_type": "code",
   "execution_count": 52,
   "metadata": {},
   "outputs": [],
   "source": [
    "def rf_model(final_model):\n",
    "    scaler_model = StandardScaler()\n",
    "    train = final_model.drop('meter_reading', axis=1)\n",
    "    test = final_model['meter_reading']\n",
    "    scaler_model.fit(train)\n",
    "    train = scaler_model.transform(train)\n",
    "    \n",
    "    X_train, X_test, y_train, y_test = train_test_split(train, test, test_size=0.2, random_state=42)\n",
    "    rf = RandomForestRegressor()\n",
    "    rf.fit(X_train, y_train)\n",
    "    predictions = rf.predict(X_test)\n",
    "    \n",
    "    meanSquaredError = mean_squared_error(y_test, predictions)\n",
    "    print(\"MSE:\", meanSquaredError)\n",
    "    rootMeanSquaredError = sqrt(meanSquaredError)\n",
    "    print(\"RMSE:\", rootMeanSquaredError)\n",
    "    \n",
    "    return rf"
   ]
  },
  {
   "cell_type": "code",
   "execution_count": 51,
   "metadata": {},
   "outputs": [
    {
     "name": "stderr",
     "output_type": "stream",
     "text": [
      "/Users/eric/anaconda3/lib/python3.7/site-packages/sklearn/ensemble/forest.py:245: FutureWarning: The default value of n_estimators will change from 10 in version 0.20 to 100 in 0.22.\n",
      "  \"10 in version 0.20 to 100 in 0.22.\", FutureWarning)\n"
     ]
    },
    {
     "name": "stdout",
     "output_type": "stream",
     "text": [
      "MSE: 67.97652108856492\n",
      "RMSE: 8.244787510213039\n"
     ]
    }
   ],
   "source": [
    "# sample of only 100k rows.  The below results probably aren't accurate because it is a sample of a sample \n",
    "forrest_model = rf_model(final_model)"
   ]
  },
  {
   "cell_type": "code",
   "execution_count": null,
   "metadata": {},
   "outputs": [],
   "source": []
  }
 ],
 "metadata": {
  "kernelspec": {
   "display_name": "learn-env",
   "language": "python",
   "name": "learn-env"
  },
  "language_info": {
   "codemirror_mode": {
    "name": "ipython",
    "version": 3
   },
   "file_extension": ".py",
   "mimetype": "text/x-python",
   "name": "python",
   "nbconvert_exporter": "python",
   "pygments_lexer": "ipython3",
   "version": "3.7.3"
  }
 },
 "nbformat": 4,
 "nbformat_minor": 2
}
